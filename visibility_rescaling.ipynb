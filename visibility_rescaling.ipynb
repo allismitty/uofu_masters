{
 "cells": [
  {
   "cell_type": "markdown",
   "id": "4ccc8ab0",
   "metadata": {},
   "source": [
    "# Visibility Rescaling Practice\n",
    "Allison Smith\n",
    "June 08, 2023"
   ]
  },
  {
   "cell_type": "markdown",
   "id": "fb01d9e3",
   "metadata": {},
   "source": [
    "This code shows a few methods and examples of rescaling algorithms to attempt to account for and explain the effects visibility has on situational awareness and travel rates. "
   ]
  },
  {
   "cell_type": "markdown",
   "id": "e1c2eb0c",
   "metadata": {},
   "source": [
    "## The logistic function"
   ]
  },
  {
   "cell_type": "markdown",
   "id": "b86d42e4",
   "metadata": {},
   "source": [
    "We are using a slightly modified version of the logistic function to analyze how we might change a basic visibility layer to reflect how visibility values affect situational awareness and therefore the cost for firefighters in the field when selecting escape routes. \n",
    "\n",
    "$$ v_{r} = {L \\over 1+e^{−k(v−v_{0})}} $$\n",
    "where $v_{0}$ is the midpoint of the curve, $L$ is the asymptote, and $k$ is its logistic growth rate. $v_{r}$ is the rescaled visibility cost, and $v$ is the original visibility cost. \n",
    "\n",
    "An in-depth explanation of visibility rescaling functions can be found here: https://rpubs.com/mickeycampbell/1045950"
   ]
  },
  {
   "cell_type": "code",
   "execution_count": null,
   "id": "3a746147",
   "metadata": {},
   "outputs": [],
   "source": [
    "#define logistic function\n",
    "#use basic form of logisic function, and coerce the rescaled values to 0-1\n",
    "def log_fun(v,v0,L,k):\n",
    "    vr = L / (1 + exp(-k * (v - v0)))\n",
    "    vr = (vr - min(vr)) / (max(vr) - (min(vr)))\n",
    "    return vr"
   ]
  },
  {
   "cell_type": "markdown",
   "id": "ae6b9eda",
   "metadata": {},
   "source": [
    "In our analysis, $v_{r}$ will be our rescaled visibility raster, with $v$ being the original visibility raster. We can make changes to the other variables to examine the effects of rescaling. First we will set up the necessary components."
   ]
  },
  {
   "cell_type": "markdown",
   "id": "d9d1db61",
   "metadata": {},
   "source": [
    "Here we initialize packages, define environments, and read data we are using for the analysis"
   ]
  },
  {
   "cell_type": "markdown",
   "id": "2dd1572c",
   "metadata": {},
   "source": [
    "libraries:"
   ]
  },
  {
   "cell_type": "code",
   "execution_count": null,
   "id": "e32f7492",
   "metadata": {},
   "outputs": [],
   "source": [
    "import os\n",
    "import arcpy\n",
    "from arcpy import env\n",
    "from arcpy.sa import *\n",
    "from time import ctime\n",
    "import math\n",
    "arcpy.CheckOutExtension(\"spatial\")\n",
    "time = ctime()"
   ]
  },
  {
   "cell_type": "markdown",
   "id": "11eb207a",
   "metadata": {},
   "source": [
    "load data for analysis:"
   ]
  },
  {
   "cell_type": "code",
   "execution_count": null,
   "id": "98bbde5d",
   "metadata": {},
   "outputs": [],
   "source": [
    "#least cost path based on slope, vegetation density, and terrain roughness\n",
    "lcp1 = \"E:\\\\a_smith\\\\lakeMtnsSite\\\\lakemtns\\\\initial_lcp\\\\lcp1.shp\"\n",
    "#least cost path based on unscaled visibility\n",
    "lcp1_v = \"E:\\\\a_smith\\\\lakeMtnsSite\\\\lakemtns\\\\initial_lcp\\\\lcp1_v.shp\"\n",
    "#visibility layer\n",
    "vis = Raster(\"E:\\a_smith\\lakeMtnsSite\\lakemtns\\initial_lcp\\vis_subaginv.tif\")\n",
    "#starting and end points for rescaled vis lcp\n",
    "start1 = \"E:\\\\a_smith\\\\lakeMtnsSite\\\\lakemtns\\\\initial_lcp\\\\start1.shp\"\n",
    "safetyZone = \"E:\\\\a_smith\\\\lakeMtnsSite\\\\lakemtns\\\\initial_lcp\\\\safetyZone.shp\"\n",
    "#surface layer\n",
    "dtm_agg = Raster(\"E:\\a_smith\\lakeMtnsSite\\lakemtns\\initial_lcp\\dtm_sub_ag.tif\")"
   ]
  },
  {
   "cell_type": "markdown",
   "id": "819ed6b3",
   "metadata": {},
   "source": [
    "define environments:"
   ]
  },
  {
   "cell_type": "code",
   "execution_count": null,
   "id": "c90295f1",
   "metadata": {},
   "outputs": [],
   "source": [
    "#main directory\n",
    "main_dir = \"E:\\\\a_smith\\\\lakeMtnsSite\\\\\"\n",
    "#working directory\n",
    "working_dir = main_dir + \"vis_rescaling\\\\\"\n",
    "if not os.path.exists(working_dir):\n",
    "    os.mkdir(working_dir)\n",
    "arcpy.env.workspace = working_dir\n",
    "#cell size\n",
    "arcpy.env.cellSize = 20\n",
    "#raster grid origin/alignment\n",
    "arcpy.env.snapRaster = dtm_agg\n",
    "#output coordinate system\n",
    "arcpy.env.outputCoordinateSystem = dtm_agg\n",
    "#resampling method\n",
    "arcpy.env.resamplingMethod = \"BILINEAR\"\n",
    "#processing extent\n",
    "arcpy.env.extent = vis\n",
    "#mask/bounding box\n",
    "arcpy.env.mask = dtm_agg"
   ]
  },
  {
   "cell_type": "markdown",
   "id": "471a52a4",
   "metadata": {},
   "source": [
    "## Exponential Growth\n",
    "For this section, we will analyze how exponential rescaling changes the least cost path as compared to the unscaled visibility and the path based on slope, vegetation density, and terrain roughness.\n",
    "In an exponential curve, $v_{0} = 1$"
   ]
  },
  {
   "cell_type": "code",
   "execution_count": null,
   "id": "8545ea60",
   "metadata": {},
   "outputs": [],
   "source": [
    "exp_vis_1 = "
   ]
  },
  {
   "cell_type": "code",
   "execution_count": null,
   "id": "1127f420",
   "metadata": {},
   "outputs": [],
   "source": [
    "exp_vis_2 = "
   ]
  },
  {
   "cell_type": "code",
   "execution_count": null,
   "id": "c6cdfb06",
   "metadata": {},
   "outputs": [],
   "source": [
    "#create back direction rasters for distance accumulation step\n",
    "outback_ev1 = \n",
    "outback_ev2 = \n",
    "#run distance accumulation and optimal path as line to create LCP\n",
    "dist_acc1 = DistanceAccumulation(in_source_data = start1, \n",
    "                                 in_surface_raster = dtm_agg, \n",
    "                                 in_cost_raster = exp_vis_1, \n",
    "                                 out_back_direction_raster = outback_ev11)\n",
    "lcp1 = OptimalPathAsLine(in_destination_data = safetyZone, \n",
    "                         in_distance_accumulation_raster = dist_acc1, \n",
    "                         in_back_direction_raster = outback1, \n",
    "                         out_polyline_features = \"/lcp1.shp\",\n",
    "                         path_type = \"EACH_ZONE\")"
   ]
  },
  {
   "cell_type": "markdown",
   "id": "e31df2dc",
   "metadata": {},
   "source": [
    "## Logarithmic\n",
    "For this section, we will analyze how logarithmic rescaling changes the least cost path as compared to the unscaled visibility and the path based on slope, vegetation density, and terrain roughness.\n",
    "In an logarithmic curve, $v_{0} = 0$"
   ]
  },
  {
   "cell_type": "code",
   "execution_count": null,
   "id": "a751e37f",
   "metadata": {},
   "outputs": [],
   "source": [
    "#run distance accumulation and optimal path as line to create LCP\n",
    "dist_acc1 = DistanceAccumulation(in_source_data = start1, \n",
    "                                 in_surface_raster = dtm_agg, \n",
    "                                 in_cost_raster = travel_pc, \n",
    "                                 out_back_direction_raster = outback1)\n",
    "lcp1 = OptimalPathAsLine(in_destination_data = safetyZone, \n",
    "                         in_distance_accumulation_raster = dist_acc1, \n",
    "                         in_back_direction_raster = outback1, \n",
    "                         out_polyline_features = \"/lcp1.shp\",\n",
    "                         path_type = \"EACH_ZONE\")"
   ]
  },
  {
   "cell_type": "markdown",
   "id": "086ecf39",
   "metadata": {},
   "source": [
    "## Logistic Growth\n",
    "For this section, we will analyze how logistic growth rescaling changes the least cost path as compared to the unscaled visibility and the path based on slope, vegetation density, and terrain roughness."
   ]
  },
  {
   "cell_type": "code",
   "execution_count": null,
   "id": "6574087f",
   "metadata": {},
   "outputs": [],
   "source": [
    "#run distance accumulation and optimal path as line to create LCP\n",
    "dist_acc1 = DistanceAccumulation(in_source_data = start1, \n",
    "                                 in_surface_raster = dtm_agg, \n",
    "                                 in_cost_raster = travel_pc, \n",
    "                                 out_back_direction_raster = outback1)\n",
    "lcp1 = OptimalPathAsLine(in_destination_data = safetyZone, \n",
    "                         in_distance_accumulation_raster = dist_acc1, \n",
    "                         in_back_direction_raster = outback1, \n",
    "                         out_polyline_features = \"/lcp1.shp\",\n",
    "                         path_type = \"EACH_ZONE\")"
   ]
  }
 ],
 "metadata": {
  "kernelspec": {
   "display_name": "ArcGISPro",
   "language": "Python",
   "name": "python3"
  },
  "language_info": {
   "file_extension": ".py",
   "name": "python",
   "version": "3"
  }
 },
 "nbformat": 4,
 "nbformat_minor": 5
}

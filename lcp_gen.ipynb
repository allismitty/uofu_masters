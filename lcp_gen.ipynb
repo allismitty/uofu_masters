{
 "cells": [
  {
   "cell_type": "markdown",
   "id": "a1a1866c",
   "metadata": {},
   "source": [
    "# LEAST COST PATH GENERATION SCRIPT\n",
    "Allison Smith\n",
    "June 03, 2023\n",
    "\n",
    "This script reads in slope, vegetation density, and terrain roughness layers generated from 3DEP lidar data, preprocesses data, creates rate and pace rasters, and generates least cost paths using ArcGIS tools."
   ]
  },
  {
   "cell_type": "markdown",
   "id": "bddf5482",
   "metadata": {},
   "source": [
    "## Load packages and data"
   ]
  },
  {
   "cell_type": "code",
   "execution_count": 22,
   "id": "c7fe5c2c",
   "metadata": {},
   "outputs": [
    {
     "name": "stdout",
     "output_type": "stream",
     "text": [
      "Importing libraries...\n"
     ]
    }
   ],
   "source": [
    "#import necessary libraries\n",
    "print(\"Importing libraries...\")\n",
    "import os\n",
    "import arcpy\n",
    "from arcpy import env\n",
    "from arcpy.sa import *\n",
    "from time import ctime\n",
    "arcpy.CheckOutExtension(\"spatial\")\n",
    "time = ctime()"
   ]
  },
  {
   "cell_type": "code",
   "execution_count": 23,
   "id": "ec91628b",
   "metadata": {},
   "outputs": [],
   "source": [
    "#define directories used for lcp components\n",
    "f\"{time} setting up directories, processing extent...\"\n",
    "main_dir = \"E:\\\\a_smith\\\\lakeMtnsSite\\\\\"\n",
    "slope_dir = \"E:\\\\a_smith\\\\lakeMtnsSite\\\\slope\\\\slope.tif\"\n",
    "veg_dir = \"E:\\\\a_smith\\\\lakeMtnsSite\\\\veg\\\\veg.tif\"\n",
    "terr_dir = \"E:\\\\a_smith\\\\lakeMtnsSite\\\\terrain\\\\roughness.tif\"\n",
    "dtm_dir = \"E:\\\\a_smith\\\\lakeMtnsSite\\\\dtm\\\\dtm.tif\""
   ]
  },
  {
   "cell_type": "code",
   "execution_count": 24,
   "id": "a4a37f03",
   "metadata": {},
   "outputs": [],
   "source": [
    "#load data including rasters(slope, vegetation density, terrain roughness) \n",
    "# and polygons(starting and stopping points, and study site)\n",
    "f\"{time} loading data...\"\n",
    "slope = Raster(slope_dir)\n",
    "veg = Raster(veg_dir)\n",
    "terr = Raster(terr_dir)\n",
    "dtm = Raster(dtm_dir)\n",
    "studySite = \"E:\\\\a_smith\\\\lakeMtnsSite\\\\lakemtns\\\\initial_lcp\\\\studySite.shp\"\n",
    "start1 = \"E:\\\\a_smith\\\\lakeMtnsSite\\\\lakemtns\\\\initial_lcp\\\\start1.shp\"\n",
    "start2 = \"E:\\\\a_smith\\\\lakeMtnsSite\\\\lakemtns\\\\initial_lcp\\\\start2.shp\"\n",
    "start3 = \"E:\\\\a_smith\\\\lakeMtnsSite\\\\lakemtns\\\\initial_lcp\\\\start3.shp\"\n",
    "safetyZone = r\"E:\\\\a_smith\\\\lakeMtnsSite\\\\lakemtns\\\\initial_lcp\\\\safetyZone.shp\""
   ]
  },
  {
   "cell_type": "code",
   "execution_count": 25,
   "id": "2665933b",
   "metadata": {},
   "outputs": [],
   "source": [
    "#define and create directory that new layers (distance accumulation and lcps) will save to \n",
    "working_dir = main_dir + \"lcp_generation\\\\\"\n",
    "if not os.path.exists(working_dir):\n",
    "    os.mkdir(working_dir)"
   ]
  },
  {
   "cell_type": "code",
   "execution_count": 26,
   "id": "2b3d18ba",
   "metadata": {},
   "outputs": [],
   "source": [
    "#define environments\n",
    "#workspace\n",
    "env.workspace = working_dir\n",
    "#cell size\n",
    "arcpy.env.cellSize = 20\n",
    "#raster grid origin/alignment\n",
    "arcpy.env.snapRaster = dtm\n",
    "#output coordinate system\n",
    "arcpy.env.outputCoordinateSystem = dtm\n",
    "#resampling method\n",
    "arcpy.env.resamplingMethod = \"BILINEAR\"\n",
    "#processing extent\n",
    "arcpy.env.extent = dtm\n",
    "#mask/bounding box\n",
    "arcpy.env.mask = dtm"
   ]
  },
  {
   "cell_type": "markdown",
   "id": "2eaeaba2",
   "metadata": {},
   "source": [
    "## Preprocessing layers"
   ]
  },
  {
   "cell_type": "markdown",
   "id": "e5d72d60",
   "metadata": {},
   "source": [
    "In this step we are trimming the slope, vegetation density, and terrain roughness layers down to the study site size and aggregating them to the correct resolution. "
   ]
  },
  {
   "cell_type": "code",
   "execution_count": 27,
   "id": "5a78ae73",
   "metadata": {},
   "outputs": [
    {
     "name": "stdout",
     "output_type": "stream",
     "text": [
      "Fri Jun  9 11:36:52 2023 trimming to study site...\n"
     ]
    }
   ],
   "source": [
    "#extract rasters to study site polygon\n",
    "f\"{time} trimming to study site...\"\n",
    "print(ctime() + \" trimming to study site...\")\n",
    "slo_sub = ExtractByMask(slope, studySite, \"INSIDE\", studySite)\n",
    "veg_sub = ExtractByMask(veg, studySite, \"INSIDE\", studySite)\n",
    "terr_sub = ExtractByMask(terr, studySite, \"INSIDE\", studySite)\n",
    "dtm_sub = ExtractByMask(dtm, studySite, \"INSIDE\", studySite)"
   ]
  },
  {
   "cell_type": "code",
   "execution_count": 28,
   "id": "c8cdfe25",
   "metadata": {},
   "outputs": [
    {
     "name": "stdout",
     "output_type": "stream",
     "text": [
      "Fri Jun  9 11:37:14 2023 aggregating to 20m cell size...\n"
     ]
    }
   ],
   "source": [
    "#aggregate all rasters to cell size of the largest cell size\n",
    "#in this case, vegetation has cell size 20m, so others need to be aggregated to 20m\n",
    "print(ctime() + \" aggregating to 20m cell size...\")\n",
    "slo_agg = Aggregate(slo_sub, 20, \"MEAN\", \"EXPAND\", \"NODATA\")\n",
    "#veg does not get aggregated because it is the limiting cell size (20m)\n",
    "#veg_agg = Aggregate(veg_sub, cell_factor, \"MEAN\", \"EXPAND\", \"NODATA\")\n",
    "terr_agg = Aggregate(terr_sub, 4, \"MEAN\", \"EXPAND\", \"NODATA\")\n",
    "dtm_agg = Aggregate(dtm_sub, 20, \"MEAN\", \"EXPAND\", \"NODATA\")"
   ]
  },
  {
   "cell_type": "markdown",
   "id": "7c45c4a6",
   "metadata": {},
   "source": [
    "## Raster Calculations"
   ]
  },
  {
   "cell_type": "markdown",
   "id": "1392fa8a",
   "metadata": {},
   "source": [
    "Here we are combining the slope, vegetation, and terrain layers to generate the travel rate and pace rasters for least cost path generation. "
   ]
  },
  {
   "cell_type": "code",
   "execution_count": 12,
   "id": "30f08dc5",
   "metadata": {
    "scrolled": true
   },
   "outputs": [
    {
     "name": "stdout",
     "output_type": "stream",
     "text": [
      "Fri Jun  9 10:29:09 2023 performing raster calculations...\n"
     ]
    }
   ],
   "source": [
    "#create travel rate raster (meters per second) based on Campbell et al (2017) travel rate equation\n",
    "#invert travel rate raster to create travel pace (seconds per meter); how long it takes to traverse\n",
    "# a pixel, given the slope/veg/terrain conditions\n",
    "#the travel rate calculation is subject to change as the new equation becomes available\n",
    "print(ctime() + \" performing raster calculations...\")\n",
    "travel_rt =  1.662 + (-1.076 *  veg_sub) + (-9.011 *  terr_agg) + (-0.05191 *  slo_agg) + (-0.01127 * (slo_agg  * slo_agg))\n",
    "travel_rt.save(\"travelRt.tif\")\n",
    "travel_pc = 1 / travel_rt\n",
    "travel_pc.save(\"travelPc.tif\")"
   ]
  },
  {
   "cell_type": "markdown",
   "id": "3a1e88b4",
   "metadata": {},
   "source": [
    "## LCP Operations"
   ]
  },
  {
   "cell_type": "markdown",
   "id": "deb18137",
   "metadata": {},
   "source": [
    "In the final step, we are creating the distance accumulation rasters and back direction rasters which feed the optimal path as line tool to generate our LCPs for each starting point. "
   ]
  },
  {
   "cell_type": "code",
   "execution_count": 13,
   "id": "a0fa4bfe",
   "metadata": {},
   "outputs": [],
   "source": [
    "#creating and saving out back direction rasters\n",
    "outback1 = \"outback1.tif\"\n",
    "outback2 = \"outback2.tif\"\n",
    "outback3 = \"outback3.tif\""
   ]
  },
  {
   "cell_type": "code",
   "execution_count": 14,
   "id": "66f908a5",
   "metadata": {},
   "outputs": [
    {
     "name": "stdout",
     "output_type": "stream",
     "text": [
      "Fri Jun  9 10:29:29 2023 creating distance accumulation rasters...\n"
     ]
    }
   ],
   "source": [
    "#creating distance accumulation & back direction rasters based on starting points & travel pace raster\n",
    "print(ctime() + \" creating distance accumulation rasters...\")\n",
    "dist_acc1 = DistanceAccumulation(in_source_data = start1, \n",
    "                                 in_surface_raster = dtm_agg, \n",
    "                                 in_cost_raster = travel_pc, \n",
    "                                 out_back_direction_raster = \"outback1.tif\")\n",
    "dist_acc2 = DistanceAccumulation(in_source_data = start2, \n",
    "                                 in_surface_raster = dtm_agg, \n",
    "                                 in_cost_raster = travel_pc, \n",
    "                                 out_back_direction_raster = \"outback2.tif\")\n",
    "dist_acc3 = DistanceAccumulation(in_source_data = start3, \n",
    "                                 in_surface_raster = dtm_agg, \n",
    "                                 in_cost_raster = travel_pc, \n",
    "                                 out_back_direction_raster = \"outback3.tif\")"
   ]
  },
  {
   "cell_type": "code",
   "execution_count": 15,
   "id": "6b6c51ac",
   "metadata": {},
   "outputs": [
    {
     "name": "stdout",
     "output_type": "stream",
     "text": [
      "Fri Jun  9 10:29:43 2023 generating LCPs...\n"
     ]
    },
    {
     "ename": "ExecuteError",
     "evalue": "ERROR 010511: Internal error in cost path tracing: hr: 0x80041098.\n\nERROR 010423: E:\\a_smith\\lakeMtnsSite\\lcp_generation\\outback1.tif does not have valid statistics as required by the operation.\nFailed to execute (OptimalPathAsLine).\n",
     "output_type": "error",
     "traceback": [
      "\u001b[0;31m---------------------------------------------------------------------------\u001b[0m\n\u001b[0;31mExecuteError\u001b[0m                              Traceback (most recent call last)",
      "In  \u001b[0;34m[15]\u001b[0m:\nLine \u001b[0;34m3\u001b[0m:     lcp1 = OptimalPathAsLine(in_destination_data = safetyZone, \n",
      "File \u001b[0;34mC:\\Program Files\\ArcGIS\\Pro\\Resources\\ArcPy\\arcpy\\sa\\Functions.py\u001b[0m, in \u001b[0;32mOptimalPathAsLine\u001b[0m:\nLine \u001b[0;34m6660\u001b[0m:  \u001b[34mreturn\u001b[39;49;00m Wrapper(\n",
      "File \u001b[0;34mC:\\Program Files\\ArcGIS\\Pro\\Resources\\ArcPy\\arcpy\\sa\\Utils.py\u001b[0m, in \u001b[0;32mswapper\u001b[0m:\nLine \u001b[0;34m55\u001b[0m:    result = wrapper(*args, **kwargs)\n",
      "File \u001b[0;34mC:\\Program Files\\ArcGIS\\Pro\\Resources\\ArcPy\\arcpy\\sa\\Functions.py\u001b[0m, in \u001b[0;32mWrapper\u001b[0m:\nLine \u001b[0;34m6651\u001b[0m:  result = arcpy.gp.OptimalPathAsLine_sa(\n",
      "File \u001b[0;34mC:\\Program Files\\ArcGIS\\Pro\\Resources\\ArcPy\\arcpy\\geoprocessing\\_base.py\u001b[0m, in \u001b[0;32m<lambda>\u001b[0m:\nLine \u001b[0;34m512\u001b[0m:   \u001b[34mreturn\u001b[39;49;00m \u001b[34mlambda\u001b[39;49;00m *args: val(*gp_fixargs(args, \u001b[34mTrue\u001b[39;49;00m))\n",
      "\u001b[0;31mExecuteError\u001b[0m: ERROR 010511: Internal error in cost path tracing: hr: 0x80041098.\n\nERROR 010423: E:\\a_smith\\lakeMtnsSite\\lcp_generation\\outback1.tif does not have valid statistics as required by the operation.\nFailed to execute (OptimalPathAsLine).\n\n\u001b[0;31m---------------------------------------------------------------------------\u001b[0m"
     ]
    }
   ],
   "source": [
    "#creating LCPs based on distance accumulation & back direction rasters, as well as safety zone\n",
    "print(ctime() + \" generating LCPs...\")\n",
    "lcp1 = OptimalPathAsLine(in_destination_data = safetyZone, \n",
    "                         in_distance_accumulation_raster = dist_acc1, \n",
    "                         in_back_direction_raster = outback1, \n",
    "                         out_polyline_features = \"/lcp1.shp\",\n",
    "                         path_type = \"EACH_ZONE\")\n",
    "lcp2 = OptimalPathAsLine(in_destination_data = safetyZone, \n",
    "                         in_distance_accumulation_raster = dist_acc2, \n",
    "                         in_back_direction_raster = outback2, \n",
    "                         out_polyline_features = \"/lcp2.shp\",\n",
    "                         path_type = \"EACH_ZONE\")\n",
    "lcp3 = OptimalPathAsLine(in_destination_data = safetyZone, \n",
    "                         in_distance_accumulation_raster = dist_acc3, \n",
    "                         in_back_direction_raster = outback3, \n",
    "                         out_polyline_features = \"/lcp3.shp\",\n",
    "                         path_type = \"EACH_ZONE\")"
   ]
  },
  {
   "cell_type": "code",
   "execution_count": null,
   "id": "46e44746",
   "metadata": {},
   "outputs": [],
   "source": []
  }
 ],
 "metadata": {
  "kernelspec": {
   "display_name": "ArcGISPro",
   "language": "Python",
   "name": "python3"
  },
  "language_info": {
   "file_extension": ".py",
   "name": "python",
   "version": "3"
  }
 },
 "nbformat": 4,
 "nbformat_minor": 5
}

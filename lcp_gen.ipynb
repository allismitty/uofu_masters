{
 "cells": [
  {
   "cell_type": "markdown",
   "id": "99503222",
   "metadata": {},
   "source": [
    "# LEAST COST PATH GENERATION SCRIPT\n",
    "Allison Smith\n",
    "June 03, 2023\n",
    "\n",
    "This script reads in slope, vegetation density, and terrain roughness layers generated from 3DEP lidar data, preprocesses data, creates rate and pace rasters, and generates least cost paths using ArcGIS tools."
   ]
  },
  {
   "cell_type": "markdown",
   "id": "1c32b90d",
   "metadata": {},
   "source": [
    "## Load packages and data"
   ]
  },
  {
   "cell_type": "code",
   "execution_count": null,
   "id": "345290d1",
   "metadata": {},
   "outputs": [],
   "source": [
    "print(\"Importing libraries...\")\n",
    "import os\n",
    "import arcpy\n",
    "from arcpy import env\n",
    "from arcpy.sa import *\n",
    "arcpy.CheckOutExtension(\"spatial\")\n",
    "\n",
    "print(ctime() + \" setting up directories, processing extent...\")\n",
    "main_dir = \"E:\\\\a_smith\\\\lakeMtnsSite\\\\\"\n",
    "slope_dir = \"E:\\\\a_smith\\\\lakeMtnsSite\\\\slope\\\\slope.tif\"\n",
    "veg_dir = \"E:\\\\a_smith\\\\lakeMtnsSite\\\\veg\\\\veg.tif\"\n",
    "terr_dir = \"E:\\\\a_smith\\\\lakeMtnsSite\\\\terrain\\\\roughness.tif\"\n",
    "dtm_dir = \"E:\\\\a_smith\\\\lakeMtnsSite\\\\dtm\\\\dtm.tif\"\n",
    "\n",
    "print(ctime() + \" loading data...\")\n",
    "slope = Raster(slope_dir)\n",
    "veg = Raster(veg_dir)\n",
    "terr = Raster(terr_dir)\n",
    "dtm = Raster(dtm_dir)\n",
    "studySite = r\"E:\\\\a_smith\\\\lakeMtnsSite\\\\lakemtns\\\\initial_lcp\\\\studySite.shp\"\n",
    "start1 = r\"E:\\\\a_smith\\\\lakeMtnsSite\\\\lakemtns\\\\initial_lcp\\\\start1.shp\"\n",
    "start2 = r\"E:\\\\a_smith\\\\lakeMtnsSite\\\\lakemtns\\\\initial_lcp\\\\start2.shp\"\n",
    "start3 = r\"E:\\\\a_smith\\\\lakeMtnsSite\\\\lakemtns\\\\initial_lcp\\\\start3.shp\"\n",
    "safetyZone = r\"E:\\\\a_smith\\\\lakeMtnsSite\\\\lakemtns\\\\initial_lcp\\\\safetyZone.shp\"\n",
    "\n",
    "working_dir = main_dir + \"lcp_generation\\\\\"\n",
    "if not os.path.exists(working_dir):\n",
    "    os.mkdir(working_dir)\n",
    "env.workspace = working_dir"
   ]
  },
  {
   "cell_type": "markdown",
   "id": "20f530bc",
   "metadata": {},
   "source": [
    "## Preprocessing layers"
   ]
  },
  {
   "cell_type": "markdown",
   "id": "f9fee1d9",
   "metadata": {},
   "source": [
    "In this step we are trimming the slope, vegetation density, and terrain roughness layers down to the study site size and aggregating them to the correct resolution. "
   ]
  },
  {
   "cell_type": "code",
   "execution_count": null,
   "id": "280f0416",
   "metadata": {},
   "outputs": [],
   "source": [
    "print(ctime() + \" trimming to study site...\")\n",
    "slo_sub = ExtractByMask(slope, studySite, \"INSIDE\", studySite)\n",
    "veg_sub = ExtractByMask(veg, studySite, \"INSIDE\", studySite)\n",
    "terr_sub = ExtractByMask(terr, studySite, \"INSIDE\", studySite)\n",
    "dtm_sub = ExtractByMask(dtm, studySite, \"INSIDE\", studySite)"
   ]
  },
  {
   "cell_type": "code",
   "execution_count": null,
   "id": "25cf4a12",
   "metadata": {},
   "outputs": [],
   "source": [
    "print(ctime() + \" aggregating to 20m cell size...\")\n",
    "slo_agg = Aggregate(slo_sub, 20, \"MEAN\", \"EXPAND\", \"NODATA\")\n",
    "#veg does not get aggregated because it is the limiting cell size (20m)\n",
    "#veg_agg = Aggregate(veg_sub, cell_factor, \"MEAN\", \"EXPAND\", \"NODATA\")\n",
    "terr_agg = Aggregate(terr_sub, 4, \"MEAN\", \"EXPAND\", \"NODATA\")\n",
    "dtm_agg = Aggregate(dtm_sub, 20, \"MEAN\", \"EXPAND\", \"NODATA\")"
   ]
  },
  {
   "cell_type": "markdown",
   "id": "b433c1e9",
   "metadata": {},
   "source": [
    "## Raster Calculations"
   ]
  },
  {
   "cell_type": "markdown",
   "id": "a84873f9",
   "metadata": {},
   "source": [
    "Here we are combining the slope, vegetation, and terrain layers to generate the travel rate and pace rasters for least cost path generation. "
   ]
  },
  {
   "cell_type": "code",
   "execution_count": null,
   "id": "32bdba9b",
   "metadata": {},
   "outputs": [],
   "source": [
    "#the travel rate calculation is subject to change as the new equation becomes available\n",
    "print(ctime() + \" performing raster calculations...\")\n",
    "travel_rt = RasterCalculator ([slo_agg, veg_sub, terr_agg], [s, v, t], \n",
    "                              (1.662 + (-1.076 * v) + (-9.011 * t) + (-0.05191 * s) + (-0.01127 * (s*s))),\n",
    "                              \"IntersectionOf\", \"MaxOf\")\n",
    "travel_rt.save(\"travelRt.tif\")\n",
    "travel_pc = RasterCalculator ([travel_rt], [tr], (1/tr))\n",
    "travel_pc.save(\"travelPc.tif\")"
   ]
  },
  {
   "cell_type": "markdown",
   "id": "d44e8e70",
   "metadata": {},
   "source": [
    "## LCP Operations"
   ]
  },
  {
   "cell_type": "markdown",
   "id": "cbdc291c",
   "metadata": {},
   "source": [
    "In the final step, we are creating the distance accumulation rasters and back direction rasters which feed the optimal path as line tool to generate our LCPs for each starting point. "
   ]
  },
  {
   "cell_type": "code",
   "execution_count": null,
   "id": "af637b0e",
   "metadata": {},
   "outputs": [],
   "source": [
    "#saving out back direction rasters\n",
    "outback1 = \"outback1.tif\"\n",
    "outback2 = \"outback2.tif\"\n",
    "outback3 = \"outback3.tif\""
   ]
  },
  {
   "cell_type": "code",
   "execution_count": null,
   "id": "b53fe0f2",
   "metadata": {},
   "outputs": [],
   "source": [
    "print(ctime() + \" creating distance accumulation rasters...\")\n",
    "dist_acc1 = DistanceAccumulation(in_source_data = start1, \n",
    "                                 in_surface_raster = dtm_agg, \n",
    "                                 in_cost_raster = travel_pc, \n",
    "                                 out_back_direction_raster = outback1)\n",
    "dist_acc2 = DistanceAccumulation(in_source_data = start2, \n",
    "                                 in_surface_raster = dtm_agg, \n",
    "                                 in_cost_raster = travel_pc, \n",
    "                                 out_back_direction_raster = outback2)\n",
    "dist_acc3 = DistanceAccumulation(in_source_data = start3, \n",
    "                                 in_surface_raster = dtm_agg, \n",
    "                                 in_cost_raster = travel_pc, \n",
    "                                 out_back_direction_raster = outback3)"
   ]
  },
  {
   "cell_type": "code",
   "execution_count": null,
   "id": "45301ade",
   "metadata": {},
   "outputs": [],
   "source": [
    "print(ctime() + \" generating LCPs...\")\n",
    "lcp1 = OptimalPathAsLine(in_destination_data = safetyZone, \n",
    "                         in_distance_accumulation_raster = dist_acc1, \n",
    "                         in_back_direction_raster = outback1, \n",
    "                         out_polyline_features = \"/lcp1.shp\",\n",
    "                         path_type = \"EACH_ZONE\")\n",
    "lcp2 = OptimalPathAsLine(in_destination_data = safetyZone, \n",
    "                         in_distance_accumulation_raster = dist_acc2, \n",
    "                         in_back_direction_raster = outback2, \n",
    "                         out_polyline_features = \"/lcp2.shp\",\n",
    "                         path_type = \"EACH_ZONE\")\n",
    "lcp3 = OptimalPathAsLine(in_destination_data = safetyZone, \n",
    "                         in_distance_accumulation_raster = dist_acc3, \n",
    "                         in_back_direction_raster = outback3, \n",
    "                         out_polyline_features = \"/lcp3.shp\",\n",
    "                         path_type = \"EACH_ZONE\")"
   ]
  }
 ],
 "metadata": {
  "kernelspec": {
   "display_name": "Python 3 (ipykernel)",
   "language": "python",
   "name": "python3"
  },
  "language_info": {
   "codemirror_mode": {
    "name": "ipython",
    "version": 3
   },
   "file_extension": ".py",
   "mimetype": "text/x-python",
   "name": "python",
   "nbconvert_exporter": "python",
   "pygments_lexer": "ipython3",
   "version": "3.10.9"
  }
 },
 "nbformat": 4,
 "nbformat_minor": 5
}
